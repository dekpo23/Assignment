{
 "cells": [
  {
   "cell_type": "markdown",
   "id": "fa50feab",
   "metadata": {},
   "source": [
    "## X username and Post validation\n",
    "### Project Description\n",
    "\n",
    "The goal of the project is to validate entries for the username and posts for X users. The validation rules are outlined below:\n",
    "* X users are divided into 2: Free and Premium users\n",
    "* Username shouldn't be admin or twitter\n",
    "* The min length of usernames should be 3 while the max length of usernames is 15.\n",
    "* Users with free accounts should have a maximum character length of 280 and a maximum character length of 25,000"
   ]
  },
  {
   "cell_type": "code",
   "execution_count": null,
   "id": "d73b84e3",
   "metadata": {},
   "outputs": [],
   "source": [
    "from pydantic import BaseModel, Field, field_validator, ValidationError\n",
    "from typing import Optional\n",
    "\n",
    "class X_validation(BaseModel):\n",
    "    user_name: str = Field(..., min_length = 3, max_length = 15)\n",
    "    free_post: Optional[str] = Field(min_length=1, max_length=280)\n",
    "    premium_post: str = Field(min_length=1, max_length=25000)\n",
    "\n",
    "    @field_validator(\"user_name\")\n",
    "    def reserved(cls, v):\n",
    "        if v.lower() in [\"admin\", \"twitter\"]:\n",
    "            raise ValueError(\"Username is a reserved key word\")\n",
    "        else:\n",
    "            return v\n",
    "    \n",
    "    "
   ]
  },
  {
   "cell_type": "code",
   "execution_count": 3,
   "id": "a3401cd8",
   "metadata": {},
   "outputs": [
    {
     "name": "stdout",
     "output_type": "stream",
     "text": [
      "Validates key words reservation\n",
      "2 validation errors for X_validation\n",
      "user_name\n",
      "  Value error, Username is a reserved key word [type=value_error, input_value='Admin', input_type=str]\n",
      "    For further information visit https://errors.pydantic.dev/2.12/v/value_error\n",
      "premium_post\n",
      "  Field required [type=missing, input_value={'user_name': 'Admin', 'f...e_post': 'I love Man U'}, input_type=dict]\n",
      "    For further information visit https://errors.pydantic.dev/2.12/v/missing\n"
     ]
    }
   ],
   "source": [
    "#Validation\n",
    "def user_reserved_key():\n",
    "    print(\"Validates key words reservation\")\n",
    "\n",
    "    try:\n",
    "        X_validation(\n",
    "            user_name = \"Admin\",\n",
    "            free_post= \"I love Man U\"\n",
    "        )\n",
    "    except ValidationError as e:\n",
    "        print(e)\n",
    "user_reserved_key()\n",
    "\n"
   ]
  },
  {
   "cell_type": "code",
   "execution_count": 4,
   "id": "5e74546c",
   "metadata": {},
   "outputs": [
    {
     "name": "stdout",
     "output_type": "stream",
     "text": [
      "Validates key words reservation\n",
      "1 validation error for X_validation\n",
      "premium_post\n",
      "  Field required [type=missing, input_value={'user_name': 'Etim20', '...e_post': 'I love Man U'}, input_type=dict]\n",
      "    For further information visit https://errors.pydantic.dev/2.12/v/missing\n"
     ]
    }
   ],
   "source": [
    "#Validation\n",
    "def user_reserved_key():\n",
    "    print(\"Validates key words reservation\")\n",
    "\n",
    "    try:\n",
    "        X_validation(\n",
    "            user_name = \"Etim20\",\n",
    "            free_post= \"I love Man U\"\n",
    "        )\n",
    "    except ValidationError as e:\n",
    "        print(e)\n",
    "user_reserved_key()\n",
    "\n"
   ]
  },
  {
   "cell_type": "code",
   "execution_count": null,
   "id": "f63fd3e4",
   "metadata": {},
   "outputs": [],
   "source": []
  }
 ],
 "metadata": {
  "kernelspec": {
   "display_name": "backend",
   "language": "python",
   "name": "python3"
  },
  "language_info": {
   "codemirror_mode": {
    "name": "ipython",
    "version": 3
   },
   "file_extension": ".py",
   "mimetype": "text/x-python",
   "name": "python",
   "nbconvert_exporter": "python",
   "pygments_lexer": "ipython3",
   "version": "3.13.7"
  }
 },
 "nbformat": 4,
 "nbformat_minor": 5
}
