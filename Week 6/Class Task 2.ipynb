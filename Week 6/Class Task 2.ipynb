{
 "cells": [
  {
   "cell_type": "code",
   "execution_count": 1,
   "id": "2c2e27b1",
   "metadata": {},
   "outputs": [],
   "source": [
    "import numpy as np"
   ]
  },
  {
   "cell_type": "markdown",
   "id": "8c2ffa38",
   "metadata": {},
   "source": [
    "* Matrix A has 2 rows and 3 columns\n",
    "* Matrix B on the other hand has 3 rows and 2 columns\n",
    "* Both (AB) and (BA) are possible since the number of columns is equal to the number of rows in the other matrix."
   ]
  },
  {
   "cell_type": "code",
   "execution_count": 5,
   "id": "48d5b324",
   "metadata": {},
   "outputs": [
    {
     "name": "stdout",
     "output_type": "stream",
     "text": [
      "Multiplication between A and B is given by:\n",
      "[[19 -5]\n",
      " [-3 -3]]\n",
      "\n",
      "\n",
      "Multiplication between B and A is given by:\n",
      "[[  2   7   5]\n",
      " [ -4   2  -6]\n",
      " [ 10 -17  12]]\n"
     ]
    }
   ],
   "source": [
    "A = np.array([[2, -1, 3], [0, 4, 1]])\n",
    "B = np.array([[1,2], [-2, 0], [5, -3]])\n",
    "print('Multiplication between A and B is given by:')\n",
    "print(np.matmul(A, B))\n",
    "print('\\n')\n",
    "print('Multiplication between B and A is given by:')\n",
    "print(np.matmul(B, A))"
   ]
  },
  {
   "cell_type": "code",
   "execution_count": null,
   "id": "620d4efd",
   "metadata": {},
   "outputs": [],
   "source": []
  }
 ],
 "metadata": {
  "kernelspec": {
   "display_name": "Python 3 (ipykernel)",
   "language": "python",
   "name": "python3"
  },
  "language_info": {
   "codemirror_mode": {
    "name": "ipython",
    "version": 3
   },
   "file_extension": ".py",
   "mimetype": "text/x-python",
   "name": "python",
   "nbconvert_exporter": "python",
   "pygments_lexer": "ipython3",
   "version": "3.9.13"
  }
 },
 "nbformat": 4,
 "nbformat_minor": 5
}
