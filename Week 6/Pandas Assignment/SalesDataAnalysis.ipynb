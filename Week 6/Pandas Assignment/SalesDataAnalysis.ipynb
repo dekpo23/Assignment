{
 "cells": [
  {
   "cell_type": "code",
   "execution_count": 1,
   "id": "c873bd79",
   "metadata": {},
   "outputs": [],
   "source": [
    "#import libraries\n",
    "import pandas as pd\n",
    "import numpy as np"
   ]
  },
  {
   "cell_type": "code",
   "execution_count": 2,
   "id": "59ea4eae",
   "metadata": {},
   "outputs": [],
   "source": [
    "pd.set_option('display.max_rows', 100)\n",
    "pd.set_option('display.max_columns', 100)"
   ]
  },
  {
   "cell_type": "code",
   "execution_count": 3,
   "id": "e4912f69",
   "metadata": {},
   "outputs": [
    {
     "data": {
      "text/html": [
       "<div>\n",
       "<style scoped>\n",
       "    .dataframe tbody tr th:only-of-type {\n",
       "        vertical-align: middle;\n",
       "    }\n",
       "\n",
       "    .dataframe tbody tr th {\n",
       "        vertical-align: top;\n",
       "    }\n",
       "\n",
       "    .dataframe thead th {\n",
       "        text-align: right;\n",
       "    }\n",
       "</style>\n",
       "<table border=\"1\" class=\"dataframe\">\n",
       "  <thead>\n",
       "    <tr style=\"text-align: right;\">\n",
       "      <th></th>\n",
       "      <th>Date</th>\n",
       "      <th>Branch</th>\n",
       "      <th>Sales Agent</th>\n",
       "      <th>Products</th>\n",
       "      <th>Units</th>\n",
       "      <th>Price</th>\n",
       "    </tr>\n",
       "  </thead>\n",
       "  <tbody>\n",
       "    <tr>\n",
       "      <th>0</th>\n",
       "      <td>2014-09-01</td>\n",
       "      <td>Woji</td>\n",
       "      <td>Chinedu</td>\n",
       "      <td>Apple</td>\n",
       "      <td>2</td>\n",
       "      <td>125.00</td>\n",
       "    </tr>\n",
       "    <tr>\n",
       "      <th>1</th>\n",
       "      <td>2015-06-17</td>\n",
       "      <td>Woji</td>\n",
       "      <td>Emeka</td>\n",
       "      <td>Apple</td>\n",
       "      <td>5</td>\n",
       "      <td>125.00</td>\n",
       "    </tr>\n",
       "    <tr>\n",
       "      <th>2</th>\n",
       "      <td>2015-09-10</td>\n",
       "      <td>Woji</td>\n",
       "      <td>Ibrahim</td>\n",
       "      <td>Lenovo</td>\n",
       "      <td>7</td>\n",
       "      <td>1.29</td>\n",
       "    </tr>\n",
       "    <tr>\n",
       "      <th>3</th>\n",
       "      <td>2015-11-17</td>\n",
       "      <td>Woji</td>\n",
       "      <td>Tolu</td>\n",
       "      <td>HP</td>\n",
       "      <td>11</td>\n",
       "      <td>4.99</td>\n",
       "    </tr>\n",
       "    <tr>\n",
       "      <th>4</th>\n",
       "      <td>2015-10-31</td>\n",
       "      <td>Woji</td>\n",
       "      <td>Tonye</td>\n",
       "      <td>Lenovo</td>\n",
       "      <td>14</td>\n",
       "      <td>1.29</td>\n",
       "    </tr>\n",
       "    <tr>\n",
       "      <th>5</th>\n",
       "      <td>2014-02-26</td>\n",
       "      <td>Woji</td>\n",
       "      <td>Ibrahim</td>\n",
       "      <td>Compaq</td>\n",
       "      <td>27</td>\n",
       "      <td>19.99</td>\n",
       "    </tr>\n",
       "    <tr>\n",
       "      <th>6</th>\n",
       "      <td>2014-10-05</td>\n",
       "      <td>Woji</td>\n",
       "      <td>George</td>\n",
       "      <td>HP</td>\n",
       "      <td>28</td>\n",
       "      <td>8.99</td>\n",
       "    </tr>\n",
       "    <tr>\n",
       "      <th>7</th>\n",
       "      <td>2015-12-21</td>\n",
       "      <td>Woji</td>\n",
       "      <td>Tonye</td>\n",
       "      <td>HP</td>\n",
       "      <td>28</td>\n",
       "      <td>4.99</td>\n",
       "    </tr>\n",
       "    <tr>\n",
       "      <th>8</th>\n",
       "      <td>2014-02-09</td>\n",
       "      <td>Woji</td>\n",
       "      <td>Tolu</td>\n",
       "      <td>Lenovo</td>\n",
       "      <td>36</td>\n",
       "      <td>4.99</td>\n",
       "    </tr>\n",
       "    <tr>\n",
       "      <th>9</th>\n",
       "      <td>2015-08-07</td>\n",
       "      <td>Woji</td>\n",
       "      <td>Emeka</td>\n",
       "      <td>Dell</td>\n",
       "      <td>42</td>\n",
       "      <td>23.95</td>\n",
       "    </tr>\n",
       "    <tr>\n",
       "      <th>10</th>\n",
       "      <td>2015-01-15</td>\n",
       "      <td>Woji</td>\n",
       "      <td>Ibrahim</td>\n",
       "      <td>HP</td>\n",
       "      <td>46</td>\n",
       "      <td>8.99</td>\n",
       "    </tr>\n",
       "    <tr>\n",
       "      <th>11</th>\n",
       "      <td>2014-01-23</td>\n",
       "      <td>Woji</td>\n",
       "      <td>Emeka</td>\n",
       "      <td>HP</td>\n",
       "      <td>50</td>\n",
       "      <td>19.99</td>\n",
       "    </tr>\n",
       "    <tr>\n",
       "      <th>12</th>\n",
       "      <td>2015-03-24</td>\n",
       "      <td>Woji</td>\n",
       "      <td>Tolu</td>\n",
       "      <td>Dell</td>\n",
       "      <td>50</td>\n",
       "      <td>4.99</td>\n",
       "    </tr>\n",
       "    <tr>\n",
       "      <th>13</th>\n",
       "      <td>2015-05-14</td>\n",
       "      <td>Woji</td>\n",
       "      <td>Ibrahim</td>\n",
       "      <td>Lenovo</td>\n",
       "      <td>53</td>\n",
       "      <td>1.29</td>\n",
       "    </tr>\n",
       "    <tr>\n",
       "      <th>14</th>\n",
       "      <td>2015-07-21</td>\n",
       "      <td>Woji</td>\n",
       "      <td>George</td>\n",
       "      <td>Dell</td>\n",
       "      <td>55</td>\n",
       "      <td>12.49</td>\n",
       "    </tr>\n",
       "    <tr>\n",
       "      <th>15</th>\n",
       "      <td>2015-04-10</td>\n",
       "      <td>Woji</td>\n",
       "      <td>Tonye</td>\n",
       "      <td>Lenovo</td>\n",
       "      <td>66</td>\n",
       "      <td>1.99</td>\n",
       "    </tr>\n",
       "    <tr>\n",
       "      <th>16</th>\n",
       "      <td>2014-12-12</td>\n",
       "      <td>Woji</td>\n",
       "      <td>Chinedu</td>\n",
       "      <td>Lenovo</td>\n",
       "      <td>67</td>\n",
       "      <td>1.29</td>\n",
       "    </tr>\n",
       "    <tr>\n",
       "      <th>17</th>\n",
       "      <td>2014-04-18</td>\n",
       "      <td>Woji</td>\n",
       "      <td>Tonye</td>\n",
       "      <td>Lenovo</td>\n",
       "      <td>75</td>\n",
       "      <td>1.99</td>\n",
       "    </tr>\n",
       "    <tr>\n",
       "      <th>18</th>\n",
       "      <td>2015-05-31</td>\n",
       "      <td>Woji</td>\n",
       "      <td>Ibrahim</td>\n",
       "      <td>HP</td>\n",
       "      <td>80</td>\n",
       "      <td>8.99</td>\n",
       "    </tr>\n",
       "    <tr>\n",
       "      <th>19</th>\n",
       "      <td>2015-02-01</td>\n",
       "      <td>Woji</td>\n",
       "      <td>Chinedu</td>\n",
       "      <td>HP</td>\n",
       "      <td>87</td>\n",
       "      <td>15.00</td>\n",
       "    </tr>\n",
       "    <tr>\n",
       "      <th>20</th>\n",
       "      <td>2014-05-05</td>\n",
       "      <td>Woji</td>\n",
       "      <td>Tolu</td>\n",
       "      <td>Lenovo</td>\n",
       "      <td>90</td>\n",
       "      <td>4.99</td>\n",
       "    </tr>\n",
       "    <tr>\n",
       "      <th>21</th>\n",
       "      <td>2014-06-25</td>\n",
       "      <td>Woji</td>\n",
       "      <td>George</td>\n",
       "      <td>Lenovo</td>\n",
       "      <td>90</td>\n",
       "      <td>4.99</td>\n",
       "    </tr>\n",
       "    <tr>\n",
       "      <th>22</th>\n",
       "      <td>2015-12-04</td>\n",
       "      <td>Woji</td>\n",
       "      <td>Tolu</td>\n",
       "      <td>HP</td>\n",
       "      <td>94</td>\n",
       "      <td>19.99</td>\n",
       "    </tr>\n",
       "    <tr>\n",
       "      <th>23</th>\n",
       "      <td>2014-11-25</td>\n",
       "      <td>Woji</td>\n",
       "      <td>Emeka</td>\n",
       "      <td>Dell</td>\n",
       "      <td>96</td>\n",
       "      <td>4.99</td>\n",
       "    </tr>\n",
       "    <tr>\n",
       "      <th>24</th>\n",
       "      <td>2015-02-18</td>\n",
       "      <td>GRA</td>\n",
       "      <td>Blessing</td>\n",
       "      <td>HP</td>\n",
       "      <td>4</td>\n",
       "      <td>4.99</td>\n",
       "    </tr>\n",
       "    <tr>\n",
       "      <th>25</th>\n",
       "      <td>2014-11-08</td>\n",
       "      <td>GRA</td>\n",
       "      <td>Chioma</td>\n",
       "      <td>Compaq</td>\n",
       "      <td>15</td>\n",
       "      <td>19.99</td>\n",
       "    </tr>\n",
       "    <tr>\n",
       "      <th>26</th>\n",
       "      <td>2014-09-18</td>\n",
       "      <td>GRA</td>\n",
       "      <td>Blessing</td>\n",
       "      <td>Dell</td>\n",
       "      <td>16</td>\n",
       "      <td>15.99</td>\n",
       "    </tr>\n",
       "    <tr>\n",
       "      <th>27</th>\n",
       "      <td>2014-07-12</td>\n",
       "      <td>GRA</td>\n",
       "      <td>Torbari</td>\n",
       "      <td>HP</td>\n",
       "      <td>29</td>\n",
       "      <td>1.99</td>\n",
       "    </tr>\n",
       "    <tr>\n",
       "      <th>28</th>\n",
       "      <td>2014-08-15</td>\n",
       "      <td>GRA</td>\n",
       "      <td>Blessing</td>\n",
       "      <td>Lenovo</td>\n",
       "      <td>35</td>\n",
       "      <td>4.99</td>\n",
       "    </tr>\n",
       "    <tr>\n",
       "      <th>29</th>\n",
       "      <td>2014-04-01</td>\n",
       "      <td>GRA</td>\n",
       "      <td>Blessing</td>\n",
       "      <td>HP</td>\n",
       "      <td>60</td>\n",
       "      <td>4.99</td>\n",
       "    </tr>\n",
       "    <tr>\n",
       "      <th>30</th>\n",
       "      <td>2014-06-08</td>\n",
       "      <td>GRA</td>\n",
       "      <td>Blessing</td>\n",
       "      <td>HP</td>\n",
       "      <td>60</td>\n",
       "      <td>8.99</td>\n",
       "    </tr>\n",
       "    <tr>\n",
       "      <th>31</th>\n",
       "      <td>2015-07-04</td>\n",
       "      <td>GRA</td>\n",
       "      <td>Blessing</td>\n",
       "      <td>Dell</td>\n",
       "      <td>62</td>\n",
       "      <td>4.99</td>\n",
       "    </tr>\n",
       "    <tr>\n",
       "      <th>32</th>\n",
       "      <td>2014-10-22</td>\n",
       "      <td>GRA</td>\n",
       "      <td>Blessing</td>\n",
       "      <td>Compaq</td>\n",
       "      <td>64</td>\n",
       "      <td>8.99</td>\n",
       "    </tr>\n",
       "    <tr>\n",
       "      <th>33</th>\n",
       "      <td>2014-12-29</td>\n",
       "      <td>GRA</td>\n",
       "      <td>Chioma</td>\n",
       "      <td>Dell</td>\n",
       "      <td>74</td>\n",
       "      <td>15.99</td>\n",
       "    </tr>\n",
       "    <tr>\n",
       "      <th>34</th>\n",
       "      <td>2014-07-29</td>\n",
       "      <td>GRA</td>\n",
       "      <td>Chioma</td>\n",
       "      <td>HP</td>\n",
       "      <td>81</td>\n",
       "      <td>19.99</td>\n",
       "    </tr>\n",
       "    <tr>\n",
       "      <th>35</th>\n",
       "      <td>2014-01-06</td>\n",
       "      <td>GRA</td>\n",
       "      <td>Blessing</td>\n",
       "      <td>Lenovo</td>\n",
       "      <td>95</td>\n",
       "      <td>1.99</td>\n",
       "    </tr>\n",
       "    <tr>\n",
       "      <th>36</th>\n",
       "      <td>2015-04-27</td>\n",
       "      <td>GRA</td>\n",
       "      <td>Torbari</td>\n",
       "      <td>Compaq</td>\n",
       "      <td>96</td>\n",
       "      <td>4.99</td>\n",
       "    </tr>\n",
       "    <tr>\n",
       "      <th>37</th>\n",
       "      <td>2015-08-24</td>\n",
       "      <td>Town</td>\n",
       "      <td>Uche</td>\n",
       "      <td>Apple</td>\n",
       "      <td>3</td>\n",
       "      <td>275.00</td>\n",
       "    </tr>\n",
       "    <tr>\n",
       "      <th>38</th>\n",
       "      <td>2015-03-07</td>\n",
       "      <td>Town</td>\n",
       "      <td>Uche</td>\n",
       "      <td>HP</td>\n",
       "      <td>7</td>\n",
       "      <td>19.99</td>\n",
       "    </tr>\n",
       "    <tr>\n",
       "      <th>39</th>\n",
       "      <td>2014-05-22</td>\n",
       "      <td>Town</td>\n",
       "      <td>Tunde</td>\n",
       "      <td>Lenovo</td>\n",
       "      <td>32</td>\n",
       "      <td>1.99</td>\n",
       "    </tr>\n",
       "    <tr>\n",
       "      <th>40</th>\n",
       "      <td>2014-03-15</td>\n",
       "      <td>Town</td>\n",
       "      <td>Uche</td>\n",
       "      <td>Lenovo</td>\n",
       "      <td>56</td>\n",
       "      <td>2.99</td>\n",
       "    </tr>\n",
       "    <tr>\n",
       "      <th>41</th>\n",
       "      <td>2015-10-14</td>\n",
       "      <td>Town</td>\n",
       "      <td>Tunde</td>\n",
       "      <td>HP</td>\n",
       "      <td>57</td>\n",
       "      <td>19.99</td>\n",
       "    </tr>\n",
       "    <tr>\n",
       "      <th>42</th>\n",
       "      <td>2015-09-27</td>\n",
       "      <td>Town</td>\n",
       "      <td>Uche</td>\n",
       "      <td>Compaq</td>\n",
       "      <td>76</td>\n",
       "      <td>1.99</td>\n",
       "    </tr>\n",
       "  </tbody>\n",
       "</table>\n",
       "</div>"
      ],
      "text/plain": [
       "         Date Branch Sales Agent Products  Units   Price\n",
       "0  2014-09-01   Woji     Chinedu    Apple      2  125.00\n",
       "1  2015-06-17   Woji       Emeka    Apple      5  125.00\n",
       "2  2015-09-10   Woji     Ibrahim   Lenovo      7    1.29\n",
       "3  2015-11-17   Woji        Tolu       HP     11    4.99\n",
       "4  2015-10-31   Woji       Tonye   Lenovo     14    1.29\n",
       "5  2014-02-26   Woji     Ibrahim   Compaq     27   19.99\n",
       "6  2014-10-05   Woji      George       HP     28    8.99\n",
       "7  2015-12-21   Woji       Tonye       HP     28    4.99\n",
       "8  2014-02-09   Woji        Tolu   Lenovo     36    4.99\n",
       "9  2015-08-07   Woji       Emeka     Dell     42   23.95\n",
       "10 2015-01-15   Woji     Ibrahim       HP     46    8.99\n",
       "11 2014-01-23   Woji       Emeka       HP     50   19.99\n",
       "12 2015-03-24   Woji        Tolu     Dell     50    4.99\n",
       "13 2015-05-14   Woji     Ibrahim   Lenovo     53    1.29\n",
       "14 2015-07-21   Woji      George     Dell     55   12.49\n",
       "15 2015-04-10   Woji       Tonye   Lenovo     66    1.99\n",
       "16 2014-12-12   Woji     Chinedu   Lenovo     67    1.29\n",
       "17 2014-04-18   Woji       Tonye   Lenovo     75    1.99\n",
       "18 2015-05-31   Woji     Ibrahim       HP     80    8.99\n",
       "19 2015-02-01   Woji     Chinedu       HP     87   15.00\n",
       "20 2014-05-05   Woji        Tolu   Lenovo     90    4.99\n",
       "21 2014-06-25   Woji      George   Lenovo     90    4.99\n",
       "22 2015-12-04   Woji        Tolu       HP     94   19.99\n",
       "23 2014-11-25   Woji       Emeka     Dell     96    4.99\n",
       "24 2015-02-18    GRA    Blessing       HP      4    4.99\n",
       "25 2014-11-08    GRA      Chioma   Compaq     15   19.99\n",
       "26 2014-09-18    GRA    Blessing     Dell     16   15.99\n",
       "27 2014-07-12    GRA     Torbari       HP     29    1.99\n",
       "28 2014-08-15    GRA    Blessing   Lenovo     35    4.99\n",
       "29 2014-04-01    GRA    Blessing       HP     60    4.99\n",
       "30 2014-06-08    GRA    Blessing       HP     60    8.99\n",
       "31 2015-07-04    GRA    Blessing     Dell     62    4.99\n",
       "32 2014-10-22    GRA    Blessing   Compaq     64    8.99\n",
       "33 2014-12-29    GRA      Chioma     Dell     74   15.99\n",
       "34 2014-07-29    GRA      Chioma       HP     81   19.99\n",
       "35 2014-01-06    GRA    Blessing   Lenovo     95    1.99\n",
       "36 2015-04-27    GRA     Torbari   Compaq     96    4.99\n",
       "37 2015-08-24   Town        Uche    Apple      3  275.00\n",
       "38 2015-03-07   Town        Uche       HP      7   19.99\n",
       "39 2014-05-22   Town       Tunde   Lenovo     32    1.99\n",
       "40 2014-03-15   Town        Uche   Lenovo     56    2.99\n",
       "41 2015-10-14   Town       Tunde       HP     57   19.99\n",
       "42 2015-09-27   Town        Uche   Compaq     76    1.99"
      ]
     },
     "execution_count": 3,
     "metadata": {},
     "output_type": "execute_result"
    }
   ],
   "source": [
    "df = pd.read_excel('eletronic_sales.xlsx')\n",
    "df"
   ]
  },
  {
   "cell_type": "markdown",
   "id": "e3bf83e0",
   "metadata": {},
   "source": [
    "## Basic Info and Statistics"
   ]
  },
  {
   "cell_type": "code",
   "execution_count": 4,
   "id": "332e7fe7",
   "metadata": {},
   "outputs": [
    {
     "name": "stdout",
     "output_type": "stream",
     "text": [
      "Quick info\n",
      "<class 'pandas.core.frame.DataFrame'>\n",
      "RangeIndex: 43 entries, 0 to 42\n",
      "Data columns (total 6 columns):\n",
      " #   Column       Non-Null Count  Dtype         \n",
      "---  ------       --------------  -----         \n",
      " 0   Date         43 non-null     datetime64[ns]\n",
      " 1   Branch       43 non-null     object        \n",
      " 2   Sales Agent  43 non-null     object        \n",
      " 3   Products     43 non-null     object        \n",
      " 4   Units        43 non-null     int64         \n",
      " 5   Price        43 non-null     float64       \n",
      "dtypes: datetime64[ns](1), float64(1), int64(1), object(3)\n",
      "memory usage: 2.1+ KB\n",
      "None\n",
      "\n",
      "\n",
      "Basic Stats\n",
      "                      Date      Units       Price\n",
      "count                   43  43.000000   43.000000\n",
      "mean   2014-12-29 00:00:00  49.325581   20.308605\n",
      "min    2014-01-06 00:00:00   2.000000    1.290000\n",
      "25%    2014-07-03 12:00:00  27.500000    3.990000\n",
      "50%    2014-12-29 00:00:00  53.000000    4.990000\n",
      "75%    2015-06-25 12:00:00  74.500000   17.990000\n",
      "max    2015-12-21 00:00:00  96.000000  275.000000\n",
      "std                    NaN  30.078248   47.345118\n"
     ]
    }
   ],
   "source": [
    "print('Quick info')\n",
    "print(df.info())\n",
    "print('\\n')\n",
    "print('Basic Stats')\n",
    "print(df.describe())"
   ]
  },
  {
   "cell_type": "code",
   "execution_count": 5,
   "id": "778372ec",
   "metadata": {},
   "outputs": [
    {
     "name": "stdout",
     "output_type": "stream",
     "text": [
      "No of Columns with missing values\n",
      "Date           0\n",
      "Branch         0\n",
      "Sales Agent    0\n",
      "Products       0\n",
      "Units          0\n",
      "Price          0\n",
      "dtype: int64\n",
      "\n",
      "\n",
      "No of duplicates\n",
      "0\n"
     ]
    }
   ],
   "source": [
    "print('No of Columns with missing values')\n",
    "print(df.isnull().sum())\n",
    "print('\\n')\n",
    "print('No of duplicates')\n",
    "print(df.duplicated().sum())"
   ]
  },
  {
   "cell_type": "markdown",
   "id": "48e6ff36",
   "metadata": {},
   "source": [
    "## Data Wrangling"
   ]
  },
  {
   "cell_type": "code",
   "execution_count": 6,
   "id": "297e0807",
   "metadata": {},
   "outputs": [],
   "source": [
    "df['Year'] = df['Date'].dt.year\n",
    "df['Month'] = df['Date'].dt.month_name()\n",
    "\n",
    "df['Revenue'] = df['Units'] * df['Price']"
   ]
  },
  {
   "cell_type": "code",
   "execution_count": 7,
   "id": "be8db74a",
   "metadata": {},
   "outputs": [
    {
     "name": "stdout",
     "output_type": "stream",
     "text": [
      "No of years in our data\n"
     ]
    },
    {
     "data": {
      "text/plain": [
       "array([2014, 2015], dtype=int32)"
      ]
     },
     "execution_count": 7,
     "metadata": {},
     "output_type": "execute_result"
    }
   ],
   "source": [
    "print('No of years in our data')\n",
    "df['Year'].unique()"
   ]
  },
  {
   "cell_type": "markdown",
   "id": "21959dea",
   "metadata": {},
   "source": [
    "### Total Units Sold"
   ]
  },
  {
   "cell_type": "code",
   "execution_count": 8,
   "id": "81e0b47f",
   "metadata": {},
   "outputs": [
    {
     "data": {
      "text/plain": [
       "np.int64(2121)"
      ]
     },
     "execution_count": 8,
     "metadata": {},
     "output_type": "execute_result"
    }
   ],
   "source": [
    "df['Units'].sum()"
   ]
  },
  {
   "cell_type": "markdown",
   "id": "162f9a2c",
   "metadata": {},
   "source": [
    "### No of Products"
   ]
  },
  {
   "cell_type": "code",
   "execution_count": 9,
   "id": "db1e01ef",
   "metadata": {},
   "outputs": [
    {
     "data": {
      "text/plain": [
       "5"
      ]
     },
     "execution_count": 9,
     "metadata": {},
     "output_type": "execute_result"
    }
   ],
   "source": [
    "df['Products'].nunique()"
   ]
  },
  {
   "cell_type": "markdown",
   "id": "5a6517ac",
   "metadata": {},
   "source": [
    "### No of Sales Agents"
   ]
  },
  {
   "cell_type": "code",
   "execution_count": 10,
   "id": "1d65f3d7",
   "metadata": {},
   "outputs": [
    {
     "data": {
      "text/plain": [
       "11"
      ]
     },
     "execution_count": 10,
     "metadata": {},
     "output_type": "execute_result"
    }
   ],
   "source": [
    "df['Sales Agent'].nunique()"
   ]
  },
  {
   "cell_type": "markdown",
   "id": "adb5cfd1",
   "metadata": {},
   "source": [
    "### Total Revenue Generated"
   ]
  },
  {
   "cell_type": "code",
   "execution_count": 11,
   "id": "6e9837f4",
   "metadata": {},
   "outputs": [
    {
     "data": {
      "text/plain": [
       "np.float64(19627.88)"
      ]
     },
     "execution_count": 11,
     "metadata": {},
     "output_type": "execute_result"
    }
   ],
   "source": [
    "round(df['Revenue'].sum(), 2)"
   ]
  },
  {
   "cell_type": "markdown",
   "id": "f22a93c6",
   "metadata": {},
   "source": [
    "### Total Revenue Generated By Each Branch"
   ]
  },
  {
   "cell_type": "code",
   "execution_count": 12,
   "id": "5fb74c58",
   "metadata": {},
   "outputs": [
    {
     "data": {
      "text/plain": [
       "Branch\n",
       "GRA      6002.09\n",
       "Town     2486.72\n",
       "Woji    11139.07\n",
       "Name: Revenue, dtype: float64"
      ]
     },
     "execution_count": 12,
     "metadata": {},
     "output_type": "execute_result"
    }
   ],
   "source": [
    "df_branch = df.groupby('Branch')['Revenue'].sum()\n",
    "df_branch"
   ]
  },
  {
   "cell_type": "markdown",
   "id": "29b868c0",
   "metadata": {},
   "source": [
    "### Total Revenue Generated Each Year"
   ]
  },
  {
   "cell_type": "code",
   "execution_count": 13,
   "id": "4e7a2d78",
   "metadata": {},
   "outputs": [
    {
     "data": {
      "text/plain": [
       "Year\n",
       "2014     9258.34\n",
       "2015    10369.54\n",
       "Name: Revenue, dtype: float64"
      ]
     },
     "execution_count": 13,
     "metadata": {},
     "output_type": "execute_result"
    }
   ],
   "source": [
    "df_year = df.groupby('Year')['Revenue'].sum()\n",
    "df_year"
   ]
  },
  {
   "cell_type": "markdown",
   "id": "ffe0b052",
   "metadata": {},
   "source": [
    "### Monthly Trends"
   ]
  },
  {
   "cell_type": "code",
   "execution_count": 14,
   "id": "fe8b10cb",
   "metadata": {},
   "outputs": [
    {
     "data": {
      "text/html": [
       "<div>\n",
       "<style scoped>\n",
       "    .dataframe tbody tr th:only-of-type {\n",
       "        vertical-align: middle;\n",
       "    }\n",
       "\n",
       "    .dataframe tbody tr th {\n",
       "        vertical-align: top;\n",
       "    }\n",
       "\n",
       "    .dataframe thead th {\n",
       "        text-align: right;\n",
       "    }\n",
       "</style>\n",
       "<table border=\"1\" class=\"dataframe\">\n",
       "  <thead>\n",
       "    <tr style=\"text-align: right;\">\n",
       "      <th>Year</th>\n",
       "      <th>2014</th>\n",
       "      <th>2015</th>\n",
       "    </tr>\n",
       "    <tr>\n",
       "      <th>Month</th>\n",
       "      <th></th>\n",
       "      <th></th>\n",
       "    </tr>\n",
       "  </thead>\n",
       "  <tbody>\n",
       "    <tr>\n",
       "      <th>April</th>\n",
       "      <td>448.65</td>\n",
       "      <td>610.38</td>\n",
       "    </tr>\n",
       "    <tr>\n",
       "      <th>August</th>\n",
       "      <td>174.65</td>\n",
       "      <td>1830.90</td>\n",
       "    </tr>\n",
       "    <tr>\n",
       "      <th>December</th>\n",
       "      <td>1269.69</td>\n",
       "      <td>2018.78</td>\n",
       "    </tr>\n",
       "    <tr>\n",
       "      <th>February</th>\n",
       "      <td>719.37</td>\n",
       "      <td>1324.96</td>\n",
       "    </tr>\n",
       "    <tr>\n",
       "      <th>January</th>\n",
       "      <td>1188.55</td>\n",
       "      <td>413.54</td>\n",
       "    </tr>\n",
       "    <tr>\n",
       "      <th>July</th>\n",
       "      <td>1676.90</td>\n",
       "      <td>996.33</td>\n",
       "    </tr>\n",
       "    <tr>\n",
       "      <th>June</th>\n",
       "      <td>988.50</td>\n",
       "      <td>625.00</td>\n",
       "    </tr>\n",
       "    <tr>\n",
       "      <th>March</th>\n",
       "      <td>167.44</td>\n",
       "      <td>389.43</td>\n",
       "    </tr>\n",
       "    <tr>\n",
       "      <th>May</th>\n",
       "      <td>512.78</td>\n",
       "      <td>787.57</td>\n",
       "    </tr>\n",
       "    <tr>\n",
       "      <th>November</th>\n",
       "      <td>778.89</td>\n",
       "      <td>54.89</td>\n",
       "    </tr>\n",
       "    <tr>\n",
       "      <th>October</th>\n",
       "      <td>827.08</td>\n",
       "      <td>1157.49</td>\n",
       "    </tr>\n",
       "    <tr>\n",
       "      <th>September</th>\n",
       "      <td>505.84</td>\n",
       "      <td>160.27</td>\n",
       "    </tr>\n",
       "  </tbody>\n",
       "</table>\n",
       "</div>"
      ],
      "text/plain": [
       "Year          2014     2015\n",
       "Month                      \n",
       "April       448.65   610.38\n",
       "August      174.65  1830.90\n",
       "December   1269.69  2018.78\n",
       "February    719.37  1324.96\n",
       "January    1188.55   413.54\n",
       "July       1676.90   996.33\n",
       "June        988.50   625.00\n",
       "March       167.44   389.43\n",
       "May         512.78   787.57\n",
       "November    778.89    54.89\n",
       "October     827.08  1157.49\n",
       "September   505.84   160.27"
      ]
     },
     "execution_count": 14,
     "metadata": {},
     "output_type": "execute_result"
    }
   ],
   "source": [
    "monthly_trends = pd.pivot_table(data = df, values = 'Revenue', columns = 'Year', index = 'Month', aggfunc = 'sum')\n",
    "monthly_trends"
   ]
  },
  {
   "cell_type": "markdown",
   "id": "927a79c5",
   "metadata": {},
   "source": [
    "### Total Revenue Generated by Sales Agent"
   ]
  },
  {
   "cell_type": "code",
   "execution_count": 15,
   "id": "410df563",
   "metadata": {},
   "outputs": [
    {
     "data": {
      "text/plain": [
       "Sales Agent\n",
       "Emeka       3109.44\n",
       "Chioma      3102.30\n",
       "Tolu        2812.19\n",
       "Blessing    2363.04\n",
       "Ibrahim     1749.87\n",
       "Chinedu     1641.43\n",
       "George      1387.77\n",
       "Uche        1283.61\n",
       "Tunde       1203.11\n",
       "Torbari      536.75\n",
       "Tonye        438.37\n",
       "Name: Revenue, dtype: float64"
      ]
     },
     "execution_count": 15,
     "metadata": {},
     "output_type": "execute_result"
    }
   ],
   "source": [
    "df.groupby('Sales Agent')['Revenue'].sum().sort_values(ascending = False)"
   ]
  },
  {
   "cell_type": "markdown",
   "id": "12fa8e42",
   "metadata": {},
   "source": [
    "### Total Revenue Generated by Products"
   ]
  },
  {
   "cell_type": "code",
   "execution_count": 16,
   "id": "7cb307f7",
   "metadata": {},
   "outputs": [
    {
     "data": {
      "text/plain": [
       "Products\n",
       "HP        9577.65\n",
       "Dell      4169.87\n",
       "Lenovo    2135.14\n",
       "Compaq    2045.22\n",
       "Apple     1700.00\n",
       "Name: Revenue, dtype: float64"
      ]
     },
     "execution_count": 16,
     "metadata": {},
     "output_type": "execute_result"
    }
   ],
   "source": [
    "df.groupby('Products')['Revenue'].sum().sort_values(ascending = False)"
   ]
  },
  {
   "cell_type": "markdown",
   "id": "0ddcab31",
   "metadata": {},
   "source": [
    "### Total Units By Products"
   ]
  },
  {
   "cell_type": "code",
   "execution_count": 17,
   "id": "44d9e8ea",
   "metadata": {},
   "outputs": [
    {
     "data": {
      "text/plain": [
       "Products\n",
       "HP        722\n",
       "Lenovo    716\n",
       "Dell      395\n",
       "Compaq    278\n",
       "Apple      10\n",
       "Name: Units, dtype: int64"
      ]
     },
     "execution_count": 17,
     "metadata": {},
     "output_type": "execute_result"
    }
   ],
   "source": [
    "df.groupby('Products')['Units'].sum().sort_values(ascending = False)"
   ]
  },
  {
   "cell_type": "code",
   "execution_count": null,
   "id": "32fe8e92",
   "metadata": {},
   "outputs": [],
   "source": []
  }
 ],
 "metadata": {
  "kernelspec": {
   "display_name": "Python 3 (ipykernel)",
   "language": "python",
   "name": "python3"
  },
  "language_info": {
   "codemirror_mode": {
    "name": "ipython",
    "version": 3
   },
   "file_extension": ".py",
   "mimetype": "text/x-python",
   "name": "python",
   "nbconvert_exporter": "python",
   "pygments_lexer": "ipython3",
   "version": "3.9.13"
  }
 },
 "nbformat": 4,
 "nbformat_minor": 5
}
