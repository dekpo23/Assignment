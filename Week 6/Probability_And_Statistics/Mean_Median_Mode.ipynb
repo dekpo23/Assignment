{
 "cells": [
  {
   "cell_type": "markdown",
   "id": "e3af5f11",
   "metadata": {},
   "source": [
    "## Class Test Scores"
   ]
  },
  {
   "cell_type": "markdown",
   "id": "60a97fda",
   "metadata": {},
   "source": [
    "We are to find the median, mode and median of the following scores:\n",
    "$$\n",
    "scores = 5, 8, 10, 12, 12, 12, 13, 14, 14, 15, 16, 18, 18, 20, 20\n",
    "$$\n",
    "The mean of the scores above is given by\n",
    "$$\n",
    "\\frac{1}{n}\\sum^n_{i = 1}{x_i}, \\text{ where }x_i  \\in scores\n",
    "$$\n",
    "Using the formula above, we have that\n",
    "$$\n",
    "mean = \\frac{5 + 8 + 10 + 12 + 12 + 12 + 13 + 14 + 14 + 15 + 16 + 18 + 18 + 20 + 20}{15} = 13.8\n",
    "$$\n",
    "To calculate the median, we first sort the values. Fortunately our values are already sorted, the next step is to find the mid value(s).\n",
    "$$\\therefore median  = 14$$\n",
    "The mode represent the value with highest frequency, hence\n",
    "$$\n",
    "mode = 12\n",
    "$$\n",
    "\n",
    "#### Mean, median and mode after 5 is replaced with 10\n",
    "If 5 was replaced by 10, then our new scores variable will be represented by\n",
    "$$ scores = 8, 10, 10, 12, 12, 12, 13, 14, 14, 15, 16, 18, 18, 20, 20 $$\n",
    "\n",
    "Then the new mean is\n",
    "$$\n",
    "mean = \\frac{8 + 10 + 10 + 12 + 12 + 12 + 13 + 14 + 14 + 15 + 16 + 18 + 18 + 20 + 20}{15} = 14.13\n",
    "$$\n",
    "\n",
    "**The median and mode remains unchanged after the change**\n",
    "The median remains unchanged as after sorting, the mid value is still 14. Similarly, the value with the highest frequency still remains 12.\n",
    "\n"
   ]
  },
  {
   "cell_type": "markdown",
   "id": "0fb3cffe",
   "metadata": {},
   "source": [
    "## Daily Commute Times"
   ]
  },
  {
   "cell_type": "markdown",
   "id": "f3b2c4c9",
   "metadata": {},
   "source": [
    "* Time taken(in minutes) for a group of 9 students to get to school is given by\n",
    "$$ time = 15, 20, 20, 25, 25, 30, 60, 65, 120 $$\n",
    "\n",
    "**Mean** \n",
    "<br>\n",
    "<br>\n",
    "The mean is given by\n",
    "$$\n",
    "mean = \\frac{1}{n}\\sum^n_{i = 1}{x_i}, \\text{ where }x_i  \\in time\n",
    "$$\n",
    "\n",
    "$$\n",
    "\\implies mean = \\frac{15 + 20 + 20 + 25 + 25 + 30 + 60 + 65 + 120}{9} = \\frac{380}{9}\n",
    "$$\n",
    "$$\n",
    "=42.22\n",
    "$$\n",
    "\n",
    "**Median** \n",
    "<br>\n",
    "<br>\n",
    "Since the data has been sorted, we can find the middle value. Since the total number of values in our data  is 9, the median is the value at the position 5. Hence,\n",
    "$$median = 25$$\n",
    "\n",
    "**Mode**\n",
    "<br>\n",
    "<br>\n",
    "The distribution is bimodal as it possesses 2 modes, 20 and 25. \n",
    "\n",
    "<br>\n",
    "<br>\n",
    "\n",
    "* The measure that best represents the typical time it takes students to get to school is given by the median or mode. The mean fails in this regards as there are presence of outliers. Furthermore, the mean 42.2 is greater than 67% of the total population.\n"
   ]
  },
  {
   "cell_type": "markdown",
   "id": "374a5c7b",
   "metadata": {},
   "source": [
    "## Shoe Sizes"
   ]
  },
  {
   "cell_type": "markdown",
   "id": "cd7c74a3",
   "metadata": {},
   "source": [
    "The shoe sizes of students in a class are given by\n",
    "$$sizes =  38, 39, 38, 40, 41, 42, 39, 39, 40, 38, 37, 39, 40, 41, 42 $$\n",
    "\n",
    "\n",
    "\n",
    "First, we sort the shoe sizes, after  sorting we get\n",
    "$$sizes = 37, 38, 38, 38, 39, 39, 39, 39, 40, 40, 40, 41, 41, 42, 42$$\n",
    "\n",
    "\n",
    "<br>\n",
    "* Mode\n",
    "39 has the highest frequency with 4 occurences, therefore 39 is the mode of our data.\n",
    "\n",
    "* The company should produce shoes with shoe size 39, since it has the highest frequncy in our data.\n",
    "\n",
    "* The mean should be the best measure of central tendency. The mean is 39.5 which can fit students wearing 39 and students wearing 40.\n",
    "\n"
   ]
  },
  {
   "cell_type": "code",
   "execution_count": null,
   "id": "39c83198",
   "metadata": {},
   "outputs": [],
   "source": []
  }
 ],
 "metadata": {
  "kernelspec": {
   "display_name": "Python 3",
   "language": "python",
   "name": "python3"
  },
  "language_info": {
   "codemirror_mode": {
    "name": "ipython",
    "version": 3
   },
   "file_extension": ".py",
   "mimetype": "text/x-python",
   "name": "python",
   "nbconvert_exporter": "python",
   "pygments_lexer": "ipython3",
   "version": "3.13.7"
  }
 },
 "nbformat": 4,
 "nbformat_minor": 5
}
