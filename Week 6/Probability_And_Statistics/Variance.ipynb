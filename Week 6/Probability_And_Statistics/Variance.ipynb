{
 "cells": [
  {
   "cell_type": "markdown",
   "id": "6cb6dfd4",
   "metadata": {},
   "source": [
    "## Question"
   ]
  },
  {
   "cell_type": "markdown",
   "id": "1e54f7fc",
   "metadata": {},
   "source": [
    "Given ([4, 8, 6, 5, 3]), Calculate the variance"
   ]
  },
  {
   "cell_type": "markdown",
   "id": "cd8bf734",
   "metadata": {},
   "source": [
    "## Solution"
   ]
  },
  {
   "cell_type": "markdown",
   "id": "3797f214",
   "metadata": {},
   "source": [
    "The variance of a set of numbers as is the case above is given by\n",
    "$$\n",
    "Variance(\\sigma^2) = \\frac{\\sum_{i = 1}^n(x_i - \\mu)^2}{n} -(1), \\text{ where }x_i  \\in numbers\n",
    "$$\n",
    "\n",
    "First, we calculate the mean. Remember that mean is given by\n",
    "$$\n",
    "\\frac{1}{n}\\sum^n_{i = 1}{x_i}, \\text{ where }x_i  \\in numbers\n",
    "$$\n",
    "\n",
    "$$\n",
    "= \\frac{26}{5}\n",
    "$$\n",
    "\n",
    "$$\n",
    "=5.2\n",
    "$$\n",
    "\n",
    "We substitute the values of $\\mu$ and n into equation(1). Hence we have\n",
    "$$\n",
    "Variance(\\sigma^2) = \\frac{\\sum_{i = 1}^n(x_i - 5.2)^2}{n}, \\text{ where }x_i  \\in numbers -(1)\n",
    "$$\n",
    "\n",
    "$$\n",
    "\\implies Variance(\\sigma^2) = \\frac{(4 - 5.2)^2 + (8 - 5.2)^2 + (6 - 5.2)^2 +(5 - 5.2)^2 + (3 - 5.2)^2}{5}\n",
    "$$\n",
    "\n",
    "$$\n",
    "= \\frac{14.8}{5} = 2.96\n",
    "$$\n",
    "\n",
    "$$\n",
    "\\therefore Variance(\\sigma^2) = 2.96\n",
    "$$"
   ]
  },
  {
   "cell_type": "markdown",
   "id": "81d95dcf",
   "metadata": {},
   "source": []
  }
 ],
 "metadata": {
  "kernelspec": {
   "display_name": "Python 3",
   "language": "python",
   "name": "python3"
  },
  "language_info": {
   "codemirror_mode": {
    "name": "ipython",
    "version": 3
   },
   "file_extension": ".py",
   "mimetype": "text/x-python",
   "name": "python",
   "nbconvert_exporter": "python",
   "pygments_lexer": "ipython3",
   "version": "3.13.7"
  }
 },
 "nbformat": 4,
 "nbformat_minor": 5
}
