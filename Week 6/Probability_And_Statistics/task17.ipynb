{
 "cells": [
  {
   "cell_type": "markdown",
   "id": "95782164",
   "metadata": {},
   "source": [
    "# PART ONE #"
   ]
  },
  {
   "cell_type": "markdown",
   "id": "834c77fa",
   "metadata": {},
   "source": [
    "# Question 1"
   ]
  },
  {
   "cell_type": "markdown",
   "id": "f482c5bc",
   "metadata": {},
   "source": [
    "### Total Scores for Students"
   ]
  },
  {
   "cell_type": "markdown",
   "id": "f008a887",
   "metadata": {},
   "source": [
    "Dataset is represented as matrix A\n",
    "\n",
    "$ A = \\begin{bmatrix}80&70&90\\cr60 & 85 & 75\\cr95 & 88 & 92\\cr70 & 60 & 65\\end{bmatrix}$\n",
    "\n",
    "In the matrix A, the rows represent the student and the columns represent the subject.\n",
    "\n",
    "- Student 1: \\( 80 + 70 + 90 = 240 \\)\n",
    "- Student 2: \\( 60 + 85 + 75 = 220 \\)\n",
    "- Student 3: \\( 95 + 88 + 92 = 275 \\)\n",
    "- Student 4: \\( 70 + 60 + 65 = 195 \\)\n"
   ]
  },
  {
   "cell_type": "code",
   "execution_count": null,
   "id": "d61c525a",
   "metadata": {},
   "outputs": [
    {
     "name": "stdout",
     "output_type": "stream",
     "text": [
      "Original Scores Matrix:\n",
      " \n",
      "[[80 70 90]\n",
      " [60 85 75]\n",
      " [95 88 92]\n",
      " [70 60 65]]\n",
      "\n",
      "Total Scores per Student: \n",
      "Student 1: 240\n",
      "Student 2: 220\n",
      "Student 3: 275\n",
      "Student 4: 195\n"
     ]
    }
   ],
   "source": [
    "import numpy as np\n",
    "\n",
    "A = np.array([[80, 70, 90], [60, 85, 75], [95, 88, 92], [70, 60, 65]])\n",
    "\n",
    "print(\"Original Scores Matrix:\\n \")\n",
    "print(A)\n",
    "\n",
    "total_scores = np.sum(A, axis=1)\n",
    "print(\"\\nTotal Scores per Student: \")\n",
    "for i, total in enumerate(total_scores, 1):\n",
    "    print(f\"Student {i}: {total}\")\n",
    "\n"
   ]
  },
  {
   "cell_type": "markdown",
   "id": "2f3219dc",
   "metadata": {},
   "source": [
    "# Question 2"
   ]
  },
  {
   "cell_type": "markdown",
   "id": "c1099e54",
   "metadata": {},
   "source": [
    "## Scalar Multiplication for Math"
   ]
  },
  {
   "cell_type": "markdown",
   "id": "e5d6b8dc",
   "metadata": {},
   "source": [
    "Weights: Math = 2, English = 1, Science = 1.\n",
    "\n",
    "Weighted matrix As: \n",
    "\n",
    "$  As = \\begin{bmatrix}80 * 2 & 70 * 1 & 90 * 1 \\\\60 * 2 & 85 * 1 & 75 * 1 \\\\95 * 2 & 88 * 1 & 92 * 1 \\\\70 * 2 & 60 * 1 & 65 * 1\\end{bmatrix}$\n",
    "\n",
    "$ As = \\begin{bmatrix}160 & 70 & 90 \\\\120 & 85 & 75 \\\\190 & 88 & 92 \\\\140 & 60 & 65\\end{bmatrix}$\n",
    "\n",
    "- Weighted total scores:\n",
    "  - Student 1: \\( 160 + 70 + 90 = 320 \\)\n",
    "  - Student 2: \\( 120 + 85 + 75 = 280 \\)\n",
    "  - Student 3: \\( 190 + 88 + 92 = 370 \\)\n",
    "  - Student 4: \\( 140 + 60 + 65 = 265 \\)"
   ]
  },
  {
   "cell_type": "code",
   "execution_count": null,
   "id": "69361ac2",
   "metadata": {},
   "outputs": [
    {
     "name": "stdout",
     "output_type": "stream",
     "text": [
      "Weighted Scores Matrix (Maths twice important):\n",
      "[[160  70  90]\n",
      " [120  85  75]\n",
      " [190  88  92]\n",
      " [140  60  65]]\n",
      "\n",
      "Weighted Total Scores:\n",
      "Student 1: 320\n",
      "Student 2: 280\n",
      "Student 3: 370\n",
      "Student 4: 265\n"
     ]
    }
   ],
   "source": [
    "scaled_math = np.array([2, 1, 1])  \n",
    "weighted_math = A * scaled_math\n",
    "weighted_totals_math = np.sum(weighted_math, axis=1)\n",
    "print(\"Weighted Scores Matrix (Maths twice important):\")\n",
    "print(weighted_math)\n",
    "print(\"\\nWeighted Total Scores:\")\n",
    "for i, total in enumerate(weighted_totals_math, 1):\n",
    "    print(f\"Student {i}: {total}\")"
   ]
  },
  {
   "cell_type": "markdown",
   "id": "8d4fd52e",
   "metadata": {},
   "source": [
    "# Question 3"
   ]
  },
  {
   "cell_type": "markdown",
   "id": "f504efe6",
   "metadata": {},
   "source": [
    "## Subject Average"
   ]
  },
  {
   "cell_type": "markdown",
   "id": "217441da",
   "metadata": {},
   "source": [
    "Subject Average = Total of Subject / No of Student\n",
    "\n",
    "- Math: \\( (80 + 60 + 95 + 70) / 4 = 305 / 4 = 76.25 \\)\n",
    "- English: \\( (70 + 85 + 88 + 60) / 4 = 303 / 4 = 75.75 \\)\n",
    "- Science: \\( (90 + 75 + 92 + 65) / 4 = 322 / 4 = 80.50 \\)"
   ]
  },
  {
   "cell_type": "code",
   "execution_count": null,
   "id": "2046d1f1",
   "metadata": {},
   "outputs": [
    {
     "name": "stdout",
     "output_type": "stream",
     "text": [
      "Average Score per Subject:\n",
      "Math: 76.25\n",
      "English: 75.75\n",
      "Science: 80.50\n"
     ]
    }
   ],
   "source": [
    "subjects = ['Math', 'English', 'Science']\n",
    "subject_avg = np.mean(A, axis=0)\n",
    "print(\"Average Score per Subject:\")\n",
    "for subject, avg in zip(subjects, subject_avg):\n",
    "    print(f\"{subject}: {avg:.2f}\")\n"
   ]
  },
  {
   "cell_type": "markdown",
   "id": "fd5f460a",
   "metadata": {},
   "source": [
    "# Question 4"
   ]
  },
  {
   "cell_type": "markdown",
   "id": "7b079478",
   "metadata": {},
   "source": [
    "## Final Grades"
   ]
  },
  {
   "cell_type": "markdown",
   "id": "7ffdeda9",
   "metadata": {},
   "source": [
    "Final Grades: multiply through with weight vector [0.5, 0.3, 0.2]\n",
    "\n",
    "- Student 1: \\( 80 x 0.5 + 70 x 0.3 + 90 x 0.2 = 40 + 21 + 18 = 79 \\)\n",
    "- Student 2: \\( 60 x 0.5 + 85 x 0.3 + 75 x 0.2 = 30 + 25.5 + 15 = 70.5 \\)\n",
    "- Student 3: \\( 95 x 0.5 + 88 x 0.3 + 92 x 0.2 = 47.5 + 26.4 + 18.4 = 92.3 \\)\n",
    "- Student 4: \\( 70 x 0.5 + 60 x 0.3 + 65 x 0.2 = 35 + 18 + 13 = 66 \\)"
   ]
  },
  {
   "cell_type": "code",
   "execution_count": null,
   "id": "cf89b48e",
   "metadata": {},
   "outputs": [
    {
     "name": "stdout",
     "output_type": "stream",
     "text": [
      "Final Grades (weights: Math=0.5, English=0.3, Science=0.2):\n",
      "Student 1: 79.00\n",
      "Student 2: 70.50\n",
      "Student 3: 92.30\n",
      "Student 4: 66.00\n"
     ]
    }
   ],
   "source": [
    "weights = np.array([0.5, 0.3, 0.2])\n",
    "final_grades = np.matmul(A, weights)\n",
    "print(\"Final Grades (weights: Math=0.5, English=0.3, Science=0.2):\")\n",
    "for i, grade in enumerate(final_grades, 1):\n",
    "    print(f\"Student {i}: {grade:.2f}\")\n"
   ]
  },
  {
   "cell_type": "markdown",
   "id": "c6f9e249",
   "metadata": {},
   "source": [
    "# Question 5"
   ]
  },
  {
   "cell_type": "markdown",
   "id": "5c9a9cf7",
   "metadata": {},
   "source": [
    "## Comparing Students"
   ]
  },
  {
   "cell_type": "markdown",
   "id": "d0af5a96",
   "metadata": {},
   "source": [
    "Compare Student 1 and Student 2\n",
    "\n",
    "- Student 1 vector: \\( [80, 70, 90] \\)\n",
    "- Student 2 vector: \\( [60, 85, 75] \\)\n",
    "- Overall Comparison = \\([ 80+70+90 = 240 ] - [ 60+85+75 = 220] = 20 ) - Student 1 performed better\n",
    "\n",
    "Subject Comparison\n",
    "  - Math: \\( 80-60 = 20 \\) - Student 1 performed better\n",
    "  - English: \\( 70-85 = -15 \\) - Student 2 performed better\n",
    "  - Science: \\( 90-75 = 15 \\) - Student 1 performed better"
   ]
  },
  {
   "cell_type": "code",
   "execution_count": null,
   "id": "d24a0e82",
   "metadata": {},
   "outputs": [
    {
     "name": "stdout",
     "output_type": "stream",
     "text": [
      "Overall Comparison: \n",
      "     Student 1 is better\n",
      "\n",
      "Subject Comparison:\n",
      "Math: 20\n",
      "  Student 1 better\n",
      "English: -15\n",
      "   Student 2 better\n",
      "Science: 15\n",
      "  Student 1 better\n",
      "\n"
     ]
    }
   ],
   "source": [
    "student1 = A[0]\n",
    "student2 = A[1]\n",
    "stu1 = np.sum(A[0])\n",
    "stu2 = np.sum(A[1])\n",
    "comp = stu1 - stu2\n",
    "difference = student1 - student2\n",
    "\n",
    "print(\"Overall Comparison: \")\n",
    "if comp > 0:\n",
    "    print(\"     Student 1 is better\")\n",
    "elif comp < 0:\n",
    "    print(\"     Student 2 is better\")\n",
    "else:\n",
    "    print(\"     Tie\")\n",
    "\n",
    "print(\"\\nSubject Comparison:\")\n",
    "for subject, diff in zip(subjects, difference):\n",
    "    print(f\"{subject}: {diff}\")\n",
    "    if diff > 0:\n",
    "        print(\"  Student 1 better\")\n",
    "    elif diff < 0:\n",
    "        print(\"   Student 2 better\")\n",
    "    else:\n",
    "        print(\"  Tie\")\n",
    "print()\n"
   ]
  },
  {
   "cell_type": "markdown",
   "id": "261bbd39",
   "metadata": {},
   "source": [
    "#"
   ]
  },
  {
   "cell_type": "markdown",
   "id": "ae67ee4d",
   "metadata": {},
   "source": [
    "#"
   ]
  },
  {
   "cell_type": "markdown",
   "id": "2d4ae3c4",
   "metadata": {},
   "source": [
    "#"
   ]
  },
  {
   "cell_type": "markdown",
   "id": "d5c69896",
   "metadata": {},
   "source": [
    "#"
   ]
  },
  {
   "cell_type": "markdown",
   "id": "90f07cfd",
   "metadata": {},
   "source": [
    "#"
   ]
  },
  {
   "cell_type": "markdown",
   "id": "e02232a4",
   "metadata": {},
   "source": [
    "# PART TWO\n"
   ]
  },
  {
   "cell_type": "markdown",
   "id": "2ba0189a",
   "metadata": {},
   "source": [
    "# Question 1"
   ]
  },
  {
   "cell_type": "markdown",
   "id": "ecf74c03",
   "metadata": {},
   "source": [
    "### Total Scores for Students"
   ]
  },
  {
   "cell_type": "markdown",
   "id": "354f7f62",
   "metadata": {},
   "source": [
    "Dataset is represented as matrix A\n",
    "\n",
    "$ B = \\begin{bmatrix}80 & 70 & 90 & 95\\cr60 & 85 & 75 & 95\\cr95 & 88 & 92 & 95\\cr70 & 60 & 65 & 95\\cr65 & 75 & 80 & 85\\end{bmatrix}$\n",
    "\n",
    "In the matrix A, the rows represent the student and the columns represent the subject.\n",
    "\n",
    "- Student 1: \\( 80 + 70 + 90 + 95 = 335 \\)\n",
    "- Student 2: \\( 60 + 85 + 75 + 95 = 315 \\)\n",
    "- Student 3: \\( 95 + 88 + 92 + 95 = 370 \\)\n",
    "- Student 4: \\( 70 + 60 + 65 + 95 = 290 \\)\n",
    "- Student 5: \\( 65 + 75 + 80 + 85 = 305 \\)\n"
   ]
  },
  {
   "cell_type": "code",
   "execution_count": null,
   "id": "1c4888ae",
   "metadata": {},
   "outputs": [
    {
     "name": "stdout",
     "output_type": "stream",
     "text": [
      "Original Scores Matrix:\n",
      " \n",
      "[[80 70 90 95]\n",
      " [60 85 75 95]\n",
      " [95 88 92 95]\n",
      " [70 60 65 95]\n",
      " [65 75 80 85]]\n",
      "\n",
      "Total Scores per Student: \n",
      "Student 1: 335\n",
      "Student 2: 315\n",
      "Student 3: 370\n",
      "Student 4: 290\n",
      "Student 5: 305\n"
     ]
    }
   ],
   "source": [
    "import numpy as np\n",
    "\n",
    "B = np.array([[80, 70, 90, 95], [60, 85, 75, 95], [95, 88, 92, 95], [70, 60, 65, 95], [65, 75, 80, 85]])\n",
    "\n",
    "print(\"Original Scores Matrix:\\n \")\n",
    "print(B)\n",
    "\n",
    "total_scores = np.sum(B, axis=1)\n",
    "print(\"\\nTotal Scores per Student: \")\n",
    "for i, total in enumerate(total_scores, 1):\n",
    "    print(f\"Student {i}: {total}\")\n",
    "\n"
   ]
  },
  {
   "cell_type": "markdown",
   "id": "81884afe",
   "metadata": {},
   "source": [
    "# Question 2"
   ]
  },
  {
   "cell_type": "markdown",
   "id": "a53fc4d4",
   "metadata": {},
   "source": [
    "## Scalar Multiplication for Math"
   ]
  },
  {
   "cell_type": "markdown",
   "id": "b20f6a82",
   "metadata": {},
   "source": [
    "Weights: Math = 1, English = 1, Science = 3, History = 1.\n",
    "\n",
    "Weighted matrix Bs: \n",
    "\n",
    "$ Bs = \\begin{bmatrix}80*1 & 70*1 & 90*3 & 95*1\\cr60*1 & 85*1 & 75*3 & 95*1\\cr95*1 & 88*1 & 92*3 & 95*1\\cr70*1 & 60*1 & 65*3 & 95*1\\cr65*1 & 75*1 & 80*3 & 85*1\\end{bmatrix}$\n",
    "\n",
    "$ As = \\begin{bmatrix}80 & 70 & 270 & 95\\\\60 & 85 & 225 & 95\\\\95 & 88 & 276 & 95\\\\70 & 60 & 195 & 95\\\\65 & 75 & 240 & 85\\end{bmatrix}$\n",
    "\n",
    "- Weighted total scores:\n",
    "  - Student 1: \\( 80 + 70 + 270 + 95 = 515 \\)\n",
    "  - Student 2: \\( 60 + 85 + 225 + 95 = 465 \\)\n",
    "  - Student 3: \\( 95 + 88 + 276 + 95 = 554 \\)\n",
    "  - Student 4: \\( 70 + 60 + 195 + 95 = 420 \\)\n",
    "  - Student 5: \\( 65 + 75 + 240 + 85 = 465 \\)"
   ]
  },
  {
   "cell_type": "code",
   "execution_count": null,
   "id": "31ddbd1f",
   "metadata": {},
   "outputs": [
    {
     "name": "stdout",
     "output_type": "stream",
     "text": [
      "Weighted Scores Matrix (Science Thrice Important):\n",
      "[[ 80  70 270  95]\n",
      " [ 60  85 225  95]\n",
      " [ 95  88 276  95]\n",
      " [ 70  60 195  95]\n",
      " [ 65  75 240  85]]\n",
      "\n",
      "Weighted Total Scores:\n",
      "Student 1: 515\n",
      "Student 2: 465\n",
      "Student 3: 554\n",
      "Student 4: 420\n",
      "Student 5: 465\n"
     ]
    }
   ],
   "source": [
    "scaled_maths = np.array([1, 1, 3, 1])  \n",
    "weighted_maths = B * scaled_maths\n",
    "weighted_total_maths = np.sum(weighted_maths, axis=1)\n",
    "print(\"Weighted Scores Matrix (Science Thrice Important):\")\n",
    "print(weighted_maths)\n",
    "print(\"\\nWeighted Total Scores:\")\n",
    "for i, total in enumerate(weighted_total_maths, 1):\n",
    "    print(f\"Student {i}: {total}\")"
   ]
  },
  {
   "cell_type": "markdown",
   "id": "dc552279",
   "metadata": {},
   "source": [
    "# Question 3"
   ]
  },
  {
   "cell_type": "markdown",
   "id": "b515c944",
   "metadata": {},
   "source": [
    "## Final Grades"
   ]
  },
  {
   "cell_type": "markdown",
   "id": "5d5e5f83",
   "metadata": {},
   "source": [
    "Final Grades: multiply through with weight vector [0.4, 0.3, 0.2, 0.1]\n",
    "\n",
    "- Student 1: \\( 80 x 0.4 + 70 x 0.3 + 90 x 0.2 + 95 x 0.1 = 32 + 21 + 18 + 9.5 = 80.5 \\)\n",
    "- Student 2: \\( 60 x 0.4 + 85 x 0.3 + 75 x 0.2 + 95 x 0.1 = 24 + 25.5 + 15 + 9.5 = 74 \\)\n",
    "- Student 3: \\( 95 x 0.4 + 88 x 0.3 + 92 x 0.2 + 95 x 0.1 = 38 + 26.4 + 18.4 + 9.5 = 92.3 \\)\n",
    "- Student 4: \\( 70 x 0.4 + 60 x 0.3 + 65 x 0.2 + 95 x 0.1 = 28 + 18 + 13 + 9.5 = 68.5 \\)\n",
    "- Student 5: \\( 65 x 0.4 + 75 x 0.3 + 80 x 0.2 + 85 x 0.1 = 26 + 22.5 + 16 + 8.5 = 73)"
   ]
  },
  {
   "cell_type": "code",
   "execution_count": null,
   "id": "bad06a0c",
   "metadata": {},
   "outputs": [
    {
     "name": "stdout",
     "output_type": "stream",
     "text": [
      "Final Grades (weights: Math=0.4, English=0.3, Science=0.2, History=0.1):\n",
      "Student 1: 80.50\n",
      "Student 2: 74.00\n",
      "Student 3: 92.30\n",
      "Student 4: 68.50\n",
      "Student 5: 73.00\n"
     ]
    }
   ],
   "source": [
    "weight = np.array([0.4, 0.3, 0.2, 0.1])\n",
    "final_grade = np.matmul(B, weight)\n",
    "print(\"Final Grades (weights: Math=0.4, English=0.3, Science=0.2, History=0.1):\")\n",
    "for i, grades in enumerate(final_grade, 1):\n",
    "    print(f\"Student {i}: {grades:.2f}\")\n"
   ]
  },
  {
   "cell_type": "markdown",
   "id": "e86fce0e",
   "metadata": {},
   "source": [
    "# Question 4"
   ]
  },
  {
   "cell_type": "markdown",
   "id": "b2338fa7",
   "metadata": {},
   "source": [
    "## Comparing Students"
   ]
  },
  {
   "cell_type": "markdown",
   "id": "e6e954d4",
   "metadata": {},
   "source": [
    "Compare Student 3 and Student 4\n",
    "\n",
    "- Student 3: \\( 95 + 88 + 92 + 95 = 370 \\)\n",
    "- Student 4: \\( 70 + 60 + 65 + 95 = 290 \\)\n",
    "- Overall Comparison = \\( 95 + 88 + 92 + 95 = 370 \\) - \\( 70 + 60 + 65 + 95 = 290 \\) = 80 - Student 3 performed better\n",
    "\n",
    "Subject Comparison\n",
    "  - Math: \\( 95 - 70 = 25 \\) - Student 3 performed better\n",
    "  - English: \\( 88 - 60 = 28 \\) - Student 3 performed better\n",
    "  - Science: \\( 92 - 65 = 27 \\) - Student 3 performed better\n",
    "  - History: \\( 95 - 95 = 0 \\) - TIE"
   ]
  },
  {
   "cell_type": "code",
   "execution_count": null,
   "id": "3a0eb43d",
   "metadata": {},
   "outputs": [
    {
     "name": "stdout",
     "output_type": "stream",
     "text": [
      "Overall Comparison: \n",
      "     Student 3 is better\n",
      "\n",
      "Subject Comparison:\n",
      "Math: 25\n",
      "  Student 3 better\n",
      "English: 28\n",
      "  Student 3 better\n",
      "Science: 27\n",
      "  Student 3 better\n",
      "History: 0\n",
      "  Tie\n",
      "\n"
     ]
    }
   ],
   "source": [
    "student3 = B[2]\n",
    "student4 = B[3]\n",
    "stu3 = np.sum(B[2])\n",
    "stu4 = np.sum(B[4])\n",
    "comp = stu3 - stu4\n",
    "difference = student3 - student4\n",
    "\n",
    "print(\"Overall Comparison: \")\n",
    "if comp > 0:\n",
    "    print(\"     Student 3 is better\")\n",
    "elif comp < 0:\n",
    "    print(\"     Student 4 is better\")\n",
    "else:\n",
    "    print(\"     Tie\")\n",
    "    \n",
    "subj = ['Math', 'English', 'Science', 'History']\n",
    "print(\"\\nSubject Comparison:\")\n",
    "for subject, diff in zip(subj, difference):\n",
    "    print(f\"{subject}: {diff}\")\n",
    "    if diff > 0:\n",
    "        print(\"  Student 3 better\")\n",
    "    elif diff < 0:\n",
    "        print(\"  Student 4 better\")\n",
    "    else:\n",
    "        print(\"  Tie\")\n",
    "print()"
   ]
  }
 ],
 "metadata": {
  "kernelspec": {
   "display_name": "numpy",
   "language": "python",
   "name": "python3"
  },
  "language_info": {
   "codemirror_mode": {
    "name": "ipython",
    "version": 3
   },
   "file_extension": ".py",
   "mimetype": "text/x-python",
   "name": "python",
   "nbconvert_exporter": "python",
   "pygments_lexer": "ipython3",
   "version": "3.13.7"
  }
 },
 "nbformat": 4,
 "nbformat_minor": 5
}
