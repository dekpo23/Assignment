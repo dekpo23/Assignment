{
 "cells": [
  {
   "cell_type": "markdown",
   "id": "bd03dfd2",
   "metadata": {},
   "source": [
    "## **Linear Algebra** ##"
   ]
  },
  {
   "cell_type": "markdown",
   "id": "6530cab4",
   "metadata": {},
   "source": [
    "**Given the following matrices**\n",
    "\n",
    "``` \n",
    "A = [2  -1] \n",
    "    [0   3]\n",
    "```\n",
    "\n",
    "\n",
    "``` \n",
    "B = [1    4]\n",
    "    [-2    5]\n",
    "```\n",
    "\n",
    "```\n",
    "scalars - (c = 2, d = 3)\n",
    "```\n",
    "\n"
   ]
  },
  {
   "cell_type": "markdown",
   "id": "2de9de82",
   "metadata": {},
   "source": [
    "**A. Compute the following**\n",
    "- c(A)\n",
    "- d(B)\n",
    "- (c + d)A \n",
    "                  \n"
   ]
  },
  {
   "cell_type": "code",
   "execution_count": 16,
   "id": "dcd5ba4f",
   "metadata": {},
   "outputs": [
    {
     "name": "stdout",
     "output_type": "stream",
     "text": [
      "Question A\n",
      "\n",
      "Result c(A)=\n",
      " [[ 4 -2]\n",
      " [ 0  6]]\n",
      "\n",
      "Result d(B)=\n",
      " [[ 3 12]\n",
      " [-6 15]]\n",
      "\n",
      "Result (c + d)A=\n",
      " [[10 -5]\n",
      " [ 0 15]]\n",
      "\n"
     ]
    }
   ],
   "source": [
    "# impporting libraries\n",
    "import numpy as np\n",
    "\n",
    "# A and B arrays\n",
    "A = np.array([[2, -1], [0,  3]])\n",
    "B = np.array([[1,  4], [-2, 5]])\n",
    "\n",
    "#  c,d as scalars\n",
    "c= 2\n",
    "d= 3\n",
    "# computing the scalar multiplication\n",
    "scalar_multiplication_one = c * A\n",
    "scalar_multiplication_two = d * B\n",
    "scalar_addition = (c + d) * A\n",
    "\n",
    "print(\"Question A\\n\")\n",
    "print(f\"Result c(A)=\\n {scalar_multiplication_one}\\n\")\n",
    "print(f\"Result d(B)=\\n {scalar_multiplication_two}\\n\")\n",
    "print(f\"Result (c + d)A=\\n {scalar_addition}\\n\")\n",
    "\n"
   ]
  },
  {
   "cell_type": "markdown",
   "id": "b76f7636",
   "metadata": {},
   "source": [
    "**B. Using the scalar_multiplication given , verify the scalar multiplication properties**\n",
    "\n",
    "- Properties of scalar multiplication\n",
    "  ```\n",
    "   - Associativity of Scalar Multiplication:\n",
    "    ```\n",
    "         (c.d)A =  c.(dA)"
   ]
  },
  {
   "cell_type": "code",
   "execution_count": null,
   "id": "74419635",
   "metadata": {},
   "outputs": [
    {
     "name": "stdout",
     "output_type": "stream",
     "text": [
      "Matrix One =>\n",
      "(c.d)A =\n",
      "[[12 -6]\n",
      " [ 0 18]]\n",
      "\n",
      "Matrix Two =>\n",
      "c.(dA) =\n",
      "[[12 -6]\n",
      " [ 0 18]]\n",
      "\n",
      "Associativity of Scalar Multiplication: True\n"
     ]
    }
   ],
   "source": [
    "# Associativity of Scalar Multiplication\n",
    "# (c.d)A =  c.(dA)\n",
    "associativity_check1= (c * d) *A \n",
    "associativity_check2 = c * (d * A)\n",
    "\n",
    "print(f\"Matrix One =>\\n(c.d)A =\\n{associativity_check2}\\n\")\n",
    "print(f\"Matrix Two =>\\nc.(dA) =\\n{associativity_check2}\\n\")\n",
    "print(\"Associativity of Scalar Multiplication:\", np.array_equal(associativity_check1, associativity_check2))"
   ]
  },
  {
   "cell_type": "markdown",
   "id": "041815e8",
   "metadata": {},
   "source": [
    "\n",
    "\n",
    "- Properties of scalar \n",
    "```\n",
    "  - Distributivity over Matrix Addition:\n",
    "        c (A + B)=  cA + cB"
   ]
  },
  {
   "cell_type": "code",
   "execution_count": null,
   "id": "820f43f7",
   "metadata": {},
   "outputs": [
    {
     "name": "stdout",
     "output_type": "stream",
     "text": [
      "Matrix One =>\n",
      "(c.d)A =\n",
      "[[ 6  6]\n",
      " [-4 16]]\n",
      "\n",
      "Matrix Two =>\n",
      "c.(dA) =\n",
      "[[ 6  6]\n",
      " [-4 16]]\n",
      "\n",
      "Distributivity over Matrix Addition: True\n"
     ]
    }
   ],
   "source": [
    "distributivity_check1=  c * (A + B)\n",
    "distributivity_check2 = (c * A) + (c * B)\n",
    "\n",
    "print(f\"Matrix One =>\\nc (A + B) =\\n{distributivity_check2}\\n\")\n",
    "print(f\"Matrix Two =>\\ncA + cB =\\n{distributivity_check2}\\n\")\n",
    "print(\"Distributivity over Matrix Addition:\", np.array_equal(distributivity_check1,distributivity_check2))"
   ]
  },
  {
   "cell_type": "markdown",
   "id": "b8ec0aeb",
   "metadata": {},
   "source": [
    "\n",
    "\n",
    "- Properties of scalar \n",
    "```\n",
    "  - Distributivity over scalar Addition:\n",
    "         (c + d)A =  cA + dA"
   ]
  },
  {
   "cell_type": "code",
   "execution_count": null,
   "id": "4222cf54",
   "metadata": {},
   "outputs": [
    {
     "name": "stdout",
     "output_type": "stream",
     "text": [
      "Matrix One =>\n",
      " (c + d)A =\n",
      "[[10 -5]\n",
      " [ 0 15]]\n",
      "\n",
      "Matrix Two =>\n",
      "cA + dA =\n",
      "[[10 -5]\n",
      " [ 0 15]]\n",
      "\n",
      "Distributivity over matrix Addition: True\n"
     ]
    }
   ],
   "source": [
    "distributivity_check1=  (c + d) *A\n",
    "distributivity_check2 = (c * A) + (d * A)\n",
    "\n",
    "print(f\"Matrix One =>\\n (c + d)A =\\n{distributivity_check2}\\n\")\n",
    "print(f\"Matrix Two =>\\ncA + dA =\\n{distributivity_check2}\\n\")\n",
    "print(\"Distributivity over Scalar Addition:\", np.array_equal(distributivity_check1,distributivity_check2))"
   ]
  },
  {
   "cell_type": "markdown",
   "id": "8abce551",
   "metadata": {},
   "source": [
    "**C. Find the transpose of both matrices**\n",
    " ``` \n",
    "A = [2  -1]    =>   A^T =  [2    0]\n",
    "    [0   3]                [-1   3]\n",
    "```\n",
    "\n",
    "\n",
    "``` \n",
    "B = [1    4]   =>  B^T  =  [1    -2]\n",
    "    [-2   5]               [4     5]\n",
    "```\n",
    "\n",
    "\n",
    "\n",
    "\n",
    "\n",
    "\n",
    "          "
   ]
  },
  {
   "cell_type": "code",
   "execution_count": 30,
   "id": "f6c25b5b",
   "metadata": {},
   "outputs": [
    {
     "name": "stdout",
     "output_type": "stream",
     "text": [
      "The transpose of Array A is: \n",
      " [[ 2  0]\n",
      " [-1  3]] \n",
      "\n",
      "The transpose of Array B : \n",
      " [[ 1 -2]\n",
      " [ 4  5]]\n"
     ]
    }
   ],
   "source": [
    "# finding the transpose of  A and B arrays\n",
    "A = np.array([[2, -1], [0,  3]])\n",
    "B = np.array([[1,  4], [-2, 5]])\n",
    "\n",
    "print(\"The transpose of Array A is: \\n\", A.transpose(),\"\\n\")\n",
    "print(\"The transpose of Array B : \\n\", B.transpose())\n"
   ]
  },
  {
   "cell_type": "markdown",
   "id": "bbe4fe0d",
   "metadata": {},
   "source": [
    "**D. Check if (A) and (B) are invertible by computing their determinants.** \n",
    "- If they are invertible,\n",
    "- find: A ^ - 1 and B ^ - 1"
   ]
  },
  {
   "cell_type": "code",
   "execution_count": null,
   "id": "6f44f09b",
   "metadata": {},
   "outputs": [
    {
     "name": "stdout",
     "output_type": "stream",
     "text": [
      "The determinant of Array A is: \n",
      " 6.0\n",
      "The determinat of Array A is 6.0, Is invertible: True\n",
      "\n",
      "The determinant of Array B : \n",
      " 13.0\n",
      "The determinat of Array B is 13.0, Is invertible: True\n",
      "\n"
     ]
    }
   ],
   "source": [
    "# finding the determinant of  A and B arrays\n",
    "A = np.array([[2, -1], [0,  3]])\n",
    "B = np.array([[1,  4], [-2, 5]])\n",
    "\n",
    "det_A = np.linalg.det(A)\n",
    "det_B = np.linalg.det(B)\n",
    "\n",
    "\n",
    "print(\"The determinant of Array A is: \\n\", det_A)\n",
    "print(f\"The determinat of Array A is {det_A }, Is invertible: {det_A != 0}\\n\") \n",
    "\n",
    "print(\"The determinant of Array B : \\n\", det_B)\n",
    "print(f\"The determinat of Array B is {det_B }, Is invertible: {det_B != 0}\\n\") \n"
   ]
  },
  {
   "cell_type": "code",
   "execution_count": null,
   "id": "eda3d947",
   "metadata": {},
   "outputs": [
    {
     "name": "stdout",
     "output_type": "stream",
     "text": [
      "The Inverse of Array A is: \n",
      " [[0.5        0.16666667]\n",
      " [0.         0.33333333]] \n",
      "\n",
      "The Inverse of Array B : \n",
      " [[ 0.38461538 -0.30769231]\n",
      " [ 0.15384615  0.07692308]] \n",
      "\n"
     ]
    }
   ],
   "source": [
    "# finding the inverse of A and B arrays\n",
    "A = np.array([[2, -1], [0,  3]])\n",
    "B = np.array([[1,  4], [-2, 5]])\n",
    "\n",
    "A_inv = np.linalg.inv(A)\n",
    "B_inv = np.linalg.inv(B)\n",
    "\n",
    "\n",
    "print(\"The Inverse of Array A is: \\n\", A_inv, \"\\n\")\n",
    "print(\"The Inverse of Array B is : \\n\", B_inv, \"\\n\")\n",
    "\n"
   ]
  }
 ],
 "metadata": {
  "kernelspec": {
   "display_name": "my_venv (3.13.5)",
   "language": "python",
   "name": "python3"
  },
  "language_info": {
   "codemirror_mode": {
    "name": "ipython",
    "version": 3
   },
   "file_extension": ".py",
   "mimetype": "text/x-python",
   "name": "python",
   "nbconvert_exporter": "python",
   "pygments_lexer": "ipython3",
   "version": "3.13.5"
  }
 },
 "nbformat": 4,
 "nbformat_minor": 5
}
