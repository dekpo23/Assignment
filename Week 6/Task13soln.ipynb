{
 "cells": [
  {
   "cell_type": "markdown",
   "id": "4e94b914",
   "metadata": {},
   "source": [
    "## Question 1"
   ]
  },
  {
   "cell_type": "code",
   "execution_count": 2,
   "id": "61c203f1",
   "metadata": {},
   "outputs": [
    {
     "name": "stdout",
     "output_type": "stream",
     "text": [
      "6 x 6 array:\n",
      " [[12 43 17 43 43 48]\n",
      " [ 7 28 26 10 44 15]\n",
      " [14  9 21 33 26 39]\n",
      " [ 6 24  3  6 17 28]\n",
      " [15 44 22 29 31 24]\n",
      " [26 13 11 28 32 15]]\n"
     ]
    }
   ],
   "source": [
    "import numpy as np\n",
    "matrix = np.random.randint(1, 50, size = (6,6))\n",
    "print('6 x 6 array:\\n', matrix )"
   ]
  },
  {
   "cell_type": "markdown",
   "id": "31247023",
   "metadata": {},
   "source": [
    "## Question 2"
   ]
  },
  {
   "cell_type": "code",
   "execution_count": null,
   "id": "343f72ba",
   "metadata": {},
   "outputs": [
    {
     "name": "stdout",
     "output_type": "stream",
     "text": [
      "First 2 rows:\n",
      " [[12 43 17 43 43 48]\n",
      " [ 7 28 26 10 44 15]]\n",
      "\n",
      "\n",
      "Last 3 columns:\n",
      " [[43 43 48]\n",
      " [10 44 15]\n",
      " [33 26 39]\n",
      " [ 6 17 28]\n",
      " [29 31 24]\n",
      " [28 32 15]]\n",
      "\n",
      "\n",
      "Even numbers:\n",
      "\n"
     ]
    },
    {
     "data": {
      "text/plain": [
       "array([12, 48, 28, 26, 10, 44, 14, 26,  6, 24,  6, 28, 44, 22, 24, 26, 28,\n",
       "       32], dtype=int32)"
      ]
     },
     "execution_count": 9,
     "metadata": {},
     "output_type": "execute_result"
    }
   ],
   "source": [
    "print('First 2 rows:\\n', matrix[0:2, 0:])\n",
    "print('\\n')\n",
    "print('Last 3 columns:\\n', matrix[0:, -3:])\n",
    "print('\\n')\n",
    "print('Even numbers:\\n', matrix[matrix % 2 == 0])\n"
   ]
  },
  {
   "cell_type": "markdown",
   "id": "02c420bf",
   "metadata": {},
   "source": [
    "## Question 3"
   ]
  },
  {
   "cell_type": "code",
   "execution_count": 21,
   "id": "5b4db69c",
   "metadata": {},
   "outputs": [
    {
     "name": "stdout",
     "output_type": "stream",
     "text": [
      "Reshaped Matrix:\n",
      " [[[12 43 17 43 43 48]\n",
      "  [ 7 28 26 10 44 15]]\n",
      "\n",
      " [[14  9 21 33 26 39]\n",
      "  [ 6 24  3  6 17 28]]\n",
      "\n",
      " [[15 44 22 29 31 24]\n",
      "  [26 13 11 28 32 15]]]\n",
      "\n",
      "\n",
      "Flattened Matrix:\n",
      " [12 43 17 43 43 48  7 28 26 10 44 15 14  9 21 33 26 39  6 24  3  6 17 28\n",
      " 15 44 22 29 31 24 26 13 11 28 32 15]\n"
     ]
    }
   ],
   "source": [
    "reshaped_matrix = matrix.reshape(3, 2, 6)\n",
    "print('Reshaped Matrix:\\n', reshaped_matrix)\n",
    "print('\\n')\n",
    "flattened_matrix = reshaped_matrix.flatten()\n",
    "print('Flattened Matrix:\\n', flattened_matrix)"
   ]
  },
  {
   "cell_type": "markdown",
   "id": "9cacb174",
   "metadata": {},
   "source": [
    "## Question 4"
   ]
  },
  {
   "cell_type": "code",
   "execution_count": 25,
   "id": "7ac1c32a",
   "metadata": {},
   "outputs": [
    {
     "name": "stdout",
     "output_type": "stream",
     "text": [
      "4 x 4 identity matrix\n",
      " [[1. 0. 0. 0.]\n",
      " [0. 1. 0. 0.]\n",
      " [0. 0. 1. 0.]\n",
      " [0. 0. 0. 1.]]\n",
      "\n",
      "\n",
      "Diagonal matrix\n",
      " [[10  0  0  0]\n",
      " [ 0 20  0  0]\n",
      " [ 0  0 30  0]\n",
      " [ 0  0  0 40]]\n"
     ]
    }
   ],
   "source": [
    "id_matrix = np.eye(4)\n",
    "print('4 x 4 identity matrix\\n', id_matrix)\n",
    "\n",
    "print('\\n')\n",
    "diag_matrix = np.diag(np.arange(10, 50, 10))\n",
    "print('Diagonal matrix\\n', diag_matrix)\n"
   ]
  },
  {
   "cell_type": "markdown",
   "id": "7408f801",
   "metadata": {},
   "source": [
    "## Question 5"
   ]
  },
  {
   "cell_type": "code",
   "execution_count": 31,
   "id": "4a229d79",
   "metadata": {},
   "outputs": [
    {
     "name": "stdout",
     "output_type": "stream",
     "text": [
      "3 x 4 matrix\n",
      "[[ 1  3  4  5]\n",
      " [ 4  1  3  3]\n",
      " [ 7 10  3  7]]\n",
      "\n",
      "\n",
      "4 x 3 matrix\n",
      "[[9 5 2]\n",
      " [4 1 4]\n",
      " [1 7 4]\n",
      " [1 7 4]]\n",
      "\n",
      "\n",
      "Matrix1 and Matrix2 multiplication\n",
      "[[ 30  71  50]\n",
      " [ 46  63  36]\n",
      " [113 115  94]]\n"
     ]
    }
   ],
   "source": [
    "matrix1 = np.random.randint(1, 11, size = (3, 4))\n",
    "matrix2 = np.random.randint(1, 11, size = (4, 3))\n",
    "\n",
    "print('3 x 4 matrix')\n",
    "print(matrix1)\n",
    "print('\\n')\n",
    "print('4 x 3 matrix')\n",
    "print(matrix2)\n",
    "print('\\n')\n",
    "print('Matrix1 and Matrix2 multiplication')\n",
    "print(np.matmul(matrix1, matrix2))"
   ]
  },
  {
   "cell_type": "code",
   "execution_count": null,
   "id": "cd60e237",
   "metadata": {},
   "outputs": [
    {
     "name": "stdout",
     "output_type": "stream",
     "text": [
      "Original array:\n",
      "[[1 2 3]\n",
      " [4 5 6]]\n"
     ]
    },
    {
     "data": {
      "text/plain": [
       "array([[-1,  4, -1],\n",
       "       [16, -1, 36]])"
      ]
     },
     "execution_count": 46,
     "metadata": {},
     "output_type": "execute_result"
    }
   ],
   "source": [
    "def array_operation():\n",
    "    try:\n",
    "        x = int(input('Enter number of rows here: '))\n",
    "        y = int(input('Enter number of columns here: '))\n",
    "        arr = []\n",
    "        for i in range(x):\n",
    "            for j in range(y):\n",
    "                arr.append(int(input(f'Value at row {i} and column {j}')))\n",
    "        array = np.array(arr).reshape(x, y)\n",
    "        print('Original array:')\n",
    "        print(array)\n",
    "\n",
    "        square_array = np.where(array % 2 == 0, array ** 2, array)\n",
    "        odd_square_array = np.where(square_array % 2 != 0, -1, square_array)\n",
    "        return odd_square_array\n",
    "    except ValueError as e:\n",
    "        return(e)\n",
    "    except Exception as e:\n",
    "        return e\n",
    "\n",
    "array_operation()"
   ]
  },
  {
   "cell_type": "code",
   "execution_count": null,
   "id": "7eb0721e",
   "metadata": {},
   "outputs": [],
   "source": []
  }
 ],
 "metadata": {
  "kernelspec": {
   "display_name": "numpy_prac",
   "language": "python",
   "name": "python3"
  },
  "language_info": {
   "codemirror_mode": {
    "name": "ipython",
    "version": 3
   },
   "file_extension": ".py",
   "mimetype": "text/x-python",
   "name": "python",
   "nbconvert_exporter": "python",
   "pygments_lexer": "ipython3",
   "version": "3.13.7"
  }
 },
 "nbformat": 4,
 "nbformat_minor": 5
}
